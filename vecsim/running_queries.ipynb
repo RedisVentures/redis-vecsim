{
 "cells": [
  {
   "cell_type": "markdown",
   "id": "ce121362-fab7-4059-be3d-d8ad5d579d7e",
   "metadata": {},
   "source": [
    "## Running Queries\n",
    "\n",
    "Here we load a random paper, search for nearest neighbors with RediSearch, and compare the title/abstract of the two papers."
   ]
  },
  {
   "cell_type": "code",
   "execution_count": null,
   "id": "846d297c-480b-40b4-a8e9-e8820869201f",
   "metadata": {},
   "outputs": [],
   "source": [
    "import numpy as np\n",
    "\n",
    "from redis.asyncio import Redis\n",
    "from utils.search_index import SearchIndex\n",
    "from time import time"
   ]
  },
  {
   "cell_type": "code",
   "execution_count": null,
   "id": "544133bb-159b-4c53-a02f-4e01358f1b07",
   "metadata": {},
   "outputs": [],
   "source": [
    "redis_conn = await Redis(host='redis', port='6379')\n",
    "search_index = SearchIndex('papers', redis_conn)"
   ]
  },
  {
   "cell_type": "code",
   "execution_count": null,
   "id": "f48b1a73-d7b7-4aeb-b1bc-eef6cf1fdd79",
   "metadata": {},
   "outputs": [],
   "source": [
    "# Fetch one random paper from Redis to test\n",
    "async def fetch_one(redis_conn):\n",
    "    async for key in redis_conn.scan_iter(\"paper:*\"):\n",
    "        return await redis_conn.hgetall(key)"
   ]
  },
  {
   "cell_type": "code",
   "execution_count": null,
   "id": "e27a3e96-f9e8-4a64-879b-83c0e7ec1abe",
   "metadata": {},
   "outputs": [],
   "source": [
    "paper = await fetch_one(redis_conn)"
   ]
  },
  {
   "cell_type": "code",
   "execution_count": null,
   "id": "fe7b829c-1aa1-4adb-9824-403dc5dda663",
   "metadata": {},
   "outputs": [],
   "source": [
    "paper[b'id']"
   ]
  },
  {
   "cell_type": "code",
   "execution_count": null,
   "id": "3d65f249-0ddd-4219-bef3-887858b9de81",
   "metadata": {
    "tags": []
   },
   "outputs": [],
   "source": [
    "# Vector created in the last step!\n",
    "np.frombuffer(paper[b'vector'])"
   ]
  },
  {
   "cell_type": "code",
   "execution_count": null,
   "id": "63b2bf2b-bb18-4e76-9b88-4cf863bb07bc",
   "metadata": {},
   "outputs": [],
   "source": [
    "# Construct search\n",
    "async def search(redis_conn, search_index, k: int, paper_key: str):\n",
    "    query = search_index.vector_query(\n",
    "            categories = [],\n",
    "            years = [],\n",
    "            number_of_results = k\n",
    "    )\n",
    "    print(\"searching for nearest neighbors to\", paper_key)\n",
    "    start = time()\n",
    "    vector = await redis_conn.hget(paper_key, \"vector\")\n",
    "    result = await redis_conn.ft(search_index.index_name).search(\n",
    "        query,\n",
    "        query_params={\"vec_param\": vector}\n",
    "    )\n",
    "    print(\"done in\", time()-start, \"seconds\")\n",
    "    return result"
   ]
  },
  {
   "cell_type": "code",
   "execution_count": null,
   "id": "158ea1a0-509b-4cee-a52a-65855fe57f98",
   "metadata": {},
   "outputs": [],
   "source": [
    "paper_key = \"paper:\" + paper[b\"id\"].decode('utf-8')\n",
    "result = await search(redis_conn, search_index, 5, paper_key)"
   ]
  },
  {
   "cell_type": "code",
   "execution_count": null,
   "id": "3ada00fd-661d-428e-9192-c099937522d6",
   "metadata": {},
   "outputs": [],
   "source": [
    "result"
   ]
  },
  {
   "cell_type": "code",
   "execution_count": null,
   "id": "1bacfc0a-0827-4dfa-a8f0-4c8f2347293a",
   "metadata": {},
   "outputs": [],
   "source": [
    "result.docs[1]"
   ]
  },
  {
   "cell_type": "code",
   "execution_count": null,
   "id": "9c62a59a-6ccc-40c9-8f84-6a64726e06bc",
   "metadata": {},
   "outputs": [],
   "source": [
    "# Input document\n",
    "await redis_conn.hmget(paper_key, \"title\", \"abstract\")"
   ]
  },
  {
   "cell_type": "code",
   "execution_count": null,
   "id": "861efeba-16ac-4a42-b62a-da54cb9e69d7",
   "metadata": {},
   "outputs": [],
   "source": [
    "# Nearest neighbor result\n",
    "await redis_conn.hmget(result.docs[1].id, \"title\", \"abstract\")"
   ]
  }
 ],
 "metadata": {
  "kernelspec": {
   "display_name": "Python 3.8.9 64-bit",
   "language": "python",
   "name": "python3"
  },
  "language_info": {
   "codemirror_mode": {
    "name": "ipython",
    "version": 3
   },
   "file_extension": ".py",
   "mimetype": "text/x-python",
   "name": "python",
   "nbconvert_exporter": "python",
   "pygments_lexer": "ipython3",
   "version": "3.8.9"
  },
  "vscode": {
   "interpreter": {
    "hash": "31f2aee4e71d21fbe5cf8b01ff0e069b9275f58929596ceb00d14d90e3e16cd6"
   }
  }
 },
 "nbformat": 4,
 "nbformat_minor": 5
}
