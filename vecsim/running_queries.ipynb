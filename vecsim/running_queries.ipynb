{
 "cells": [
  {
   "cell_type": "markdown",
   "id": "ce121362-fab7-4059-be3d-d8ad5d579d7e",
   "metadata": {},
   "source": [
    "## Running Queries\n",
    "\n",
    "Here we load a random paper, search for nearest neighbors with RediSearch, and compare the title/abstract of the two papers."
   ]
  },
  {
   "cell_type": "code",
   "execution_count": 53,
   "id": "846d297c-480b-40b4-a8e9-e8820869201f",
   "metadata": {},
   "outputs": [],
   "source": [
    "import numpy as np\n",
    "\n",
    "from redis.asyncio import Redis\n",
    "from utils.search_index import SearchIndex\n",
    "from time import time"
   ]
  },
  {
   "cell_type": "code",
   "execution_count": 25,
   "id": "544133bb-159b-4c53-a02f-4e01358f1b07",
   "metadata": {},
   "outputs": [],
   "source": [
    "redis_conn = await Redis(host='redis', port='6379')\n",
    "search_index = SearchIndex('papers')"
   ]
  },
  {
   "cell_type": "code",
   "execution_count": 29,
   "id": "f48b1a73-d7b7-4aeb-b1bc-eef6cf1fdd79",
   "metadata": {},
   "outputs": [],
   "source": [
    "# Fetch one random paper from Redis to test\n",
    "async def fetch_one(redis_conn):\n",
    "    async for key in redis_conn.scan_iter(\"paper:*\"):\n",
    "        return await redis_conn.hgetall(key)"
   ]
  },
  {
   "cell_type": "code",
   "execution_count": 69,
   "id": "e27a3e96-f9e8-4a64-879b-83c0e7ec1abe",
   "metadata": {},
   "outputs": [],
   "source": [
    "paper = await fetch_one(redis_conn)"
   ]
  },
  {
   "cell_type": "code",
   "execution_count": 70,
   "id": "fe7b829c-1aa1-4adb-9824-403dc5dda663",
   "metadata": {},
   "outputs": [
    {
     "data": {
      "text/plain": [
       "b'2004.04479'"
      ]
     },
     "execution_count": 70,
     "metadata": {},
     "output_type": "execute_result"
    }
   ],
   "source": [
    "paper[b'id']"
   ]
  },
  {
   "cell_type": "code",
   "execution_count": 42,
   "id": "3d65f249-0ddd-4219-bef3-887858b9de81",
   "metadata": {
    "collapsed": true,
    "jupyter": {
     "outputs_hidden": true
    },
    "tags": []
   },
   "outputs": [
    {
     "data": {
      "text/plain": [
       "array([ 3.72441314e-015,  1.15237958e-016, -1.13066037e-021,\n",
       "       -3.30453649e-016, -2.91371853e-017, -3.48800595e-016,\n",
       "        6.57015181e-016, -3.42299588e-019, -5.40178649e-017,\n",
       "       -2.19806370e-014, -1.56736254e-011,  2.32964870e-018,\n",
       "       -1.16670029e-014, -1.79329578e-014,  2.46146047e-021,\n",
       "       -6.53214121e-016,  6.67494441e-012, -2.63709988e-016,\n",
       "        1.53008003e-016, -1.75170009e-018, -1.47360671e-015,\n",
       "       -8.57511796e-021, -1.93090158e-020,  1.60677032e-014,\n",
       "        2.43855524e-011, -1.57240043e-014, -3.13561106e-021,\n",
       "        1.39058087e-021, -2.14685429e-012, -2.73797807e-017,\n",
       "        8.30676090e-020,  5.71511619e-022,  4.96645375e-016,\n",
       "        6.02565774e-025,  4.25241043e-017,  2.73186907e-031,\n",
       "        5.68803554e-021, -7.44692335e-018, -3.04318734e-015,\n",
       "       -2.12282258e-016,  3.03783864e-016,  1.56030768e-018,\n",
       "        5.84314423e-017, -1.01124550e-016, -1.03554774e-014,\n",
       "       -1.80627261e-020,  2.77623050e-015, -1.05185623e-016,\n",
       "       -4.88033530e-015, -2.17239880e-013, -2.13019070e-016,\n",
       "        1.02060372e-017,  1.36311235e-013,  3.87300812e-013,\n",
       "        2.05092750e-013,  2.58988303e-018,  3.39291656e-012,\n",
       "        2.97601758e-024,  1.35637458e-013,  1.00615194e-013,\n",
       "        7.71208586e-014,  7.58845153e-014, -1.17123293e-014,\n",
       "        6.07489407e-023, -2.69869269e-014,  4.43249321e-016,\n",
       "       -8.30604075e-017,  1.68681316e-010, -4.52508357e-017,\n",
       "       -1.45479542e-018,  1.48207315e-025, -5.60252420e-019,\n",
       "       -1.26880431e-015, -1.07018193e-013, -1.38137171e-019,\n",
       "        9.71630128e-011, -4.77818495e-017,  9.21797496e-017,\n",
       "        4.12793626e-015, -1.62792029e-016,  1.87071898e-018,\n",
       "       -3.37462433e-018,  3.09501742e-018, -1.32322633e-026,\n",
       "       -4.71175493e-024,  2.63641447e-023, -2.88502102e-011,\n",
       "        7.28606425e-019,  2.73674267e-012, -1.28850841e-015,\n",
       "        1.32980206e-011, -5.30810337e-022, -1.11836656e-014,\n",
       "       -4.93843043e-020, -2.60555768e-012, -1.12257325e-014,\n",
       "       -6.73184059e-017,  1.02076530e-019, -1.72933909e-015,\n",
       "        6.18387382e-017, -2.66717906e-013, -4.03565866e-017,\n",
       "       -2.64736252e-011, -1.51828451e-014, -2.14048698e-012,\n",
       "       -3.30930192e-029, -1.01264548e-016, -2.35541328e-014,\n",
       "        2.35842798e-018,  5.14433915e-016,  3.31046360e-023,\n",
       "        1.09553834e-017, -7.21877155e-012,  8.57843657e-014,\n",
       "        1.30712712e-020,  3.75857586e-014, -5.29633089e-017,\n",
       "       -2.80434548e-014,  2.82902876e-013, -3.76482901e-016,\n",
       "        9.32561449e-014, -1.20875979e-019, -4.20773620e-016,\n",
       "        9.99651206e-017, -1.29550236e-021, -7.07881630e-016,\n",
       "       -1.05154987e-017, -9.27440587e-017,  1.97086297e-013,\n",
       "       -5.31231195e-013, -5.63673342e-013,  5.37635665e-020,\n",
       "        2.53619476e-012,  1.44686222e-016, -3.46648321e-020,\n",
       "       -1.78866894e-014,  5.07912620e-022,  2.93552817e-014,\n",
       "       -2.29226257e-014,  1.11310716e-014,  2.05961534e-022,\n",
       "       -1.56153847e-015,  9.58133946e-013, -4.12792557e-016,\n",
       "        9.91740917e-021,  1.18960691e-011, -1.13730689e-014,\n",
       "        1.40835791e-018,  1.78922403e-010,  7.57460922e-012,\n",
       "        1.05854508e-011,  1.43878988e-018,  3.74864104e-018,\n",
       "        5.29422626e-014,  1.04149499e-017, -4.03027344e-012,\n",
       "        3.07036035e-012, -6.06831424e-015, -3.27754650e-019,\n",
       "        3.24794040e-021, -1.18086718e-013, -1.08674287e-016,\n",
       "        7.65327867e-019,  2.39635523e-012, -2.32442332e-026,\n",
       "        2.72644259e-019, -7.67523734e-013,  2.45969175e-015,\n",
       "        8.64008935e-017, -1.47758589e-018, -9.37536922e-016,\n",
       "       -2.19095703e-012,  3.32520833e-016, -1.73800290e-013,\n",
       "       -1.06561852e-018,  1.33978509e-016, -1.86103538e-014,\n",
       "        1.67525554e-019, -4.08385322e-019,  2.00194813e-017,\n",
       "       -1.54572784e-019,  1.10040760e-013, -1.44010634e-018,\n",
       "        6.03245425e-029,  8.52231203e-017,  5.87394278e-028,\n",
       "       -4.08353681e-016,  2.14933155e-020,  2.24467837e-015,\n",
       "        2.17758478e-018, -8.86585853e-014,  1.00187722e-018,\n",
       "       -1.45014343e-013,  4.23131508e-020, -7.43007026e-016,\n",
       "       -1.44375422e-013, -1.70547152e-021, -6.70936742e-015,\n",
       "       -1.60010113e-014, -1.17417067e-018,  1.90805420e-016,\n",
       "       -8.78599609e-017,  1.83006205e-016,  3.90509251e-017,\n",
       "       -1.42791437e-015,  3.64095796e-019,  1.24925856e-014,\n",
       "        3.15137877e-017,  6.85437607e-015,  8.72042941e-015,\n",
       "        3.09179817e-013, -7.52733269e-015, -5.31047882e-018,\n",
       "        7.31533966e-016, -2.36743069e-019, -8.64518276e-014,\n",
       "        4.14708936e-015, -8.74877561e-016,  5.22640755e-015,\n",
       "       -1.34636145e-021, -5.99035462e-013,  4.41403743e-016,\n",
       "       -4.17411620e-019, -1.56304357e-028,  2.52296749e-012,\n",
       "        6.42443583e-014,  1.48430037e-019, -3.39713266e-014,\n",
       "       -3.07594677e-018,  1.65944844e-016,  2.71877510e-016,\n",
       "       -2.32308365e-013,  1.41097660e-010,  2.32404867e-014,\n",
       "        2.25370380e-011,  5.82179533e-019, -5.47316490e-017,\n",
       "        4.01455055e-014, -1.12576944e-011, -1.74524340e-015,\n",
       "        2.36186196e-012, -1.62114122e-015,  2.09297666e-013,\n",
       "       -7.38026772e-019, -6.50864825e-018,  1.11077719e-015,\n",
       "       -1.92811771e-023, -6.14782237e-019,  4.38139330e-028,\n",
       "        1.68782890e-012,  6.98744153e-015,  1.49102322e-012,\n",
       "       -1.99253513e-019, -6.24666885e-023,  1.04200912e-015,\n",
       "        5.80590815e-024, -1.32892772e-016,  1.12593375e-012,\n",
       "        1.57813425e-018,  2.29429584e-018, -2.84307188e-016,\n",
       "        1.30129125e-017,  4.22679444e-016, -6.85153423e-026,\n",
       "        2.86968864e-014,  1.03927161e-013,  1.19303581e-017,\n",
       "        1.22153048e-018,  4.78712985e-012, -5.22505251e-024,\n",
       "       -3.44496261e-012,  8.11115699e-017, -1.66009752e-020,\n",
       "        1.08654228e-013,  6.00211819e-013,  7.14489323e-018,\n",
       "       -4.57216551e-018, -4.80086227e-261, -6.92473913e-017,\n",
       "        1.02006607e-019,  1.03873305e-021, -9.04805485e-017,\n",
       "        1.69489880e-024,  1.80064934e-018,  5.01897374e-018,\n",
       "       -5.92723695e-012, -1.19505504e-013,  9.88811403e-027,\n",
       "       -3.01140132e-040, -4.92656171e-012,  2.42898406e-025,\n",
       "        2.09670595e-015,  1.64239789e-014,  1.05714983e-015,\n",
       "        4.49552221e-021,  5.20662884e-025, -1.19127920e-015,\n",
       "        9.74802564e-016, -3.39517973e-014, -6.50465078e-016,\n",
       "        2.02337059e-021, -8.02176275e-015, -1.43479465e-016,\n",
       "        1.46777843e-018, -4.68113057e-021,  3.94331119e-028,\n",
       "       -9.61642454e-017, -8.10899907e-023, -5.54235160e-017,\n",
       "        1.48284173e-032,  1.27499278e-014,  3.07968977e-018,\n",
       "       -3.97998902e-012, -9.55539808e-021,  1.19384991e-012,\n",
       "       -1.43001522e-013, -3.05470147e-018, -2.35929743e-014,\n",
       "       -1.33821051e-018, -1.24044810e-018, -1.50483319e-010,\n",
       "        1.46577505e-015, -2.57492233e-025,  1.60799134e-013,\n",
       "       -9.01274882e-014, -2.46438866e-019,  1.69896879e-026,\n",
       "       -4.19403479e-018, -1.81750040e-013, -5.09427197e-034,\n",
       "        1.09124037e-015,  2.05669119e-014, -8.05921797e-017,\n",
       "       -1.78767021e-015,  1.34868672e-015, -9.08957535e-017,\n",
       "        1.80443658e-017,  7.67043380e-015,  3.81545745e-012,\n",
       "       -3.74469101e-028, -5.09938158e-014,  6.60415171e-016,\n",
       "       -3.98108556e-011, -2.50489350e-013, -1.85491762e-012,\n",
       "       -1.20783154e-018,  2.83055336e-014, -1.16442235e-018,\n",
       "       -3.62708613e-013, -1.47064087e-023, -2.56146936e-021,\n",
       "       -7.03816744e-014, -4.25845695e-020, -7.11869378e-017,\n",
       "        1.23059402e-014,  2.60667443e-014,  3.22183937e-020,\n",
       "       -2.60903034e-016,  2.03489064e-011,  3.70697990e-013,\n",
       "        4.13660198e-018, -6.52898951e-020, -2.79408562e-021,\n",
       "       -2.24901772e-019, -6.14760730e-013, -2.06517710e-019,\n",
       "        5.96574514e-014, -3.99184761e-016,  3.41288298e-017,\n",
       "        8.46965043e-014,  3.65968681e-016, -1.24765767e-014,\n",
       "        4.42939465e-013,  1.28630925e-016, -2.20541255e-014,\n",
       "        1.19391304e-015,  5.02798926e-012, -6.30589873e-016,\n",
       "        1.07179448e-017,  2.57867447e-015,  1.86713158e-017,\n",
       "        2.85846551e-017,  6.57196406e-013, -5.38826859e-014])"
      ]
     },
     "execution_count": 42,
     "metadata": {},
     "output_type": "execute_result"
    }
   ],
   "source": [
    "# Vector created in the last step!\n",
    "np.frombuffer(paper[b'vector'])"
   ]
  },
  {
   "cell_type": "code",
   "execution_count": 77,
   "id": "63b2bf2b-bb18-4e76-9b88-4cf863bb07bc",
   "metadata": {},
   "outputs": [],
   "source": [
    "# Construct search\n",
    "async def search(redis_conn, search_index, k: int, paper_key: str):\n",
    "    query = search_index.vector_query(\n",
    "            categories = [],\n",
    "            years = [],\n",
    "            number_of_results = k\n",
    "    )\n",
    "    print(\"searching for nearest neighbors to\", paper_key)\n",
    "    start = time()\n",
    "    vector = await redis_conn.hget(paper_key, \"vector\")\n",
    "    result = await redis_conn.ft(search_index.index_name).search(\n",
    "        query,\n",
    "        query_params={\"vec_param\": vector}\n",
    "    )\n",
    "    print(\"done in\", time()-start, \"seconds\")\n",
    "    return result"
   ]
  },
  {
   "cell_type": "code",
   "execution_count": 79,
   "id": "158ea1a0-509b-4cee-a52a-65855fe57f98",
   "metadata": {},
   "outputs": [
    {
     "name": "stdout",
     "output_type": "stream",
     "text": [
      "searching for nearest neighbors to paper:2004.04479\n",
      "done in 0.0042552947998046875 seconds\n"
     ]
    }
   ],
   "source": [
    "paper_key = \"paper:\" + paper[b\"id\"].decode('utf-8')\n",
    "result = await search(redis_conn, search_index, 5, paper_key)"
   ]
  },
  {
   "cell_type": "code",
   "execution_count": 80,
   "id": "3ada00fd-661d-428e-9192-c099937522d6",
   "metadata": {},
   "outputs": [
    {
     "data": {
      "text/plain": [
       "Result{5 total, docs: [Document {'id': 'paper:2004.04479', 'payload': None, 'vector_score': '5.36441802979e-07'}, Document {'id': 'paper:2102.11935', 'payload': None, 'vector_score': '0.294819951057'}, Document {'id': 'paper:2110.02364', 'payload': None, 'vector_score': '0.318400859833'}, Document {'id': 'paper:1704.08006', 'payload': None, 'vector_score': '0.321665585041'}, Document {'id': 'paper:1906.02896', 'payload': None, 'vector_score': '0.322323024273'}]}"
      ]
     },
     "execution_count": 80,
     "metadata": {},
     "output_type": "execute_result"
    }
   ],
   "source": [
    "result"
   ]
  },
  {
   "cell_type": "code",
   "execution_count": 82,
   "id": "1bacfc0a-0827-4dfa-a8f0-4c8f2347293a",
   "metadata": {},
   "outputs": [
    {
     "data": {
      "text/plain": [
       "Document {'id': 'paper:2102.11935', 'payload': None, 'vector_score': '0.294819951057'}"
      ]
     },
     "execution_count": 82,
     "metadata": {},
     "output_type": "execute_result"
    }
   ],
   "source": [
    "result.docs[1]"
   ]
  },
  {
   "cell_type": "code",
   "execution_count": 85,
   "id": "9c62a59a-6ccc-40c9-8f84-6a64726e06bc",
   "metadata": {},
   "outputs": [
    {
     "data": {
      "text/plain": [
       "[b'On Adversarial Examples and Stealth Attacks in Artificial Intelligence\\n  Systems',\n",
       " b\"  In this work we present a formal theoretical framework for assessing and\\nanalyzing two classes of malevolent action towards generic Artificial\\nIntelligence (AI) systems. Our results apply to general multi-class classifiers\\nthat map from an input space into a decision space, including artificial neural\\nnetworks used in deep learning applications. Two classes of attacks are\\nconsidered. The first class involves adversarial examples and concerns the\\nintroduction of small perturbations of the input data that cause\\nmisclassification. The second class, introduced here for the first time and\\nnamed stealth attacks, involves small perturbations to the AI system itself.\\nHere the perturbed system produces whatever output is desired by the attacker\\non a specific small data set, perhaps even a single input, but performs as\\nnormal on a validation set (which is unknown to the attacker). We show that in\\nboth cases, i.e., in the case of an attack based on adversarial examples and in\\nthe case of a stealth attack, the dimensionality of the AI's decision-making\\nspace is a major contributor to the AI's susceptibility. For attacks based on\\nadversarial examples, a second crucial parameter is the absence of local\\nconcentrations in the data probability distribution, a property known as\\nSmeared Absolute Continuity. According to our findings, robustness to\\nadversarial examples requires either (a) the data distributions in the AI's\\nfeature space to have concentrated probability density functions or (b) the\\ndimensionality of the AI's decision variables to be sufficiently small. We also\\nshow how to construct stealth attacks on high-dimensional AI systems that are\\nhard to spot unless the validation set is made exponentially large.\\n\"]"
      ]
     },
     "execution_count": 85,
     "metadata": {},
     "output_type": "execute_result"
    }
   ],
   "source": [
    "# Input document\n",
    "await redis_conn.hmget(paper_key, \"title\", \"abstract\")"
   ]
  },
  {
   "cell_type": "code",
   "execution_count": 84,
   "id": "861efeba-16ac-4a42-b62a-da54cb9e69d7",
   "metadata": {},
   "outputs": [
    {
     "data": {
      "text/plain": [
       "[b'Non-Singular Adversarial Robustness of Neural Networks',\n",
       " b'  Adversarial robustness has become an emerging challenge for neural network\\nowing to its over-sensitivity to small input perturbations. While being\\ncritical, we argue that solving this singular issue alone fails to provide a\\ncomprehensive robustness assessment. Even worse, the conclusions drawn from\\nsingular robustness may give a false sense of overall model robustness.\\nSpecifically, our findings show that adversarially trained models that are\\nrobust to input perturbations are still (or even more) vulnerable to weight\\nperturbations when compared to standard models. In this paper, we formalize the\\nnotion of non-singular adversarial robustness for neural networks through the\\nlens of joint perturbations to data inputs as well as model weights. To our\\nbest knowledge, this study is the first work considering simultaneous\\ninput-weight adversarial perturbations. Based on a multi-layer feed-forward\\nneural network model with ReLU activation functions and standard classification\\nloss, we establish error analysis for quantifying the loss sensitivity subject\\nto $\\\\ell_\\\\infty$-norm bounded perturbations on data inputs and model weights.\\nBased on the error analysis, we propose novel regularization functions for\\nrobust training and demonstrate improved non-singular robustness against joint\\ninput-weight adversarial perturbations.\\n']"
      ]
     },
     "execution_count": 84,
     "metadata": {},
     "output_type": "execute_result"
    }
   ],
   "source": [
    "# Nearest neighbor result\n",
    "await redis_conn.hmget(result.docs[1].id, \"title\", \"abstract\")"
   ]
  }
 ],
 "metadata": {
  "kernelspec": {
   "display_name": "Python 3 (ipykernel)",
   "language": "python",
   "name": "python3"
  },
  "language_info": {
   "codemirror_mode": {
    "name": "ipython",
    "version": 3
   },
   "file_extension": ".py",
   "mimetype": "text/x-python",
   "name": "python",
   "nbconvert_exporter": "python",
   "pygments_lexer": "ipython3",
   "version": "3.10.6"
  }
 },
 "nbformat": 4,
 "nbformat_minor": 5
}
